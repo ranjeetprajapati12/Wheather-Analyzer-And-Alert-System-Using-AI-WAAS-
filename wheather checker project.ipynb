{
 "cells": [
  {
   "cell_type": "code",
   "execution_count": 1,
   "id": "a1afbd94",
   "metadata": {},
   "outputs": [],
   "source": [
    "import requests"
   ]
  },
  {
   "cell_type": "code",
   "execution_count": 48,
   "id": "2eac2558",
   "metadata": {},
   "outputs": [],
   "source": [
    "cityname=input(\"Enter the city name:\")"
   ]
  },
  {
   "cell_type": "code",
   "execution_count": 12,
   "id": "6f425c35",
   "metadata": {},
   "outputs": [],
   "source": [
    "url=\"https://api.openweathermap.org/data/2.5/weather?q=Delhi&appid=bdf977707ba8cbc4b9fbe6b7e9240662&units=metric\""
   ]
  },
  {
   "cell_type": "code",
   "execution_count": 21,
   "id": "50a634f3",
   "metadata": {},
   "outputs": [],
   "source": [
    "responce=requests.get(url)"
   ]
  },
  {
   "cell_type": "code",
   "execution_count": null,
   "id": "e3edfb64",
   "metadata": {},
   "outputs": [
    {
     "data": {
      "text/plain": [
       "200"
      ]
     },
     "execution_count": 23,
     "metadata": {},
     "output_type": "execute_result"
    }
   ],
   "source": [
    "responce.status_code     #Responce is positive now we need to convert it into the json formate"
   ]
  },
  {
   "cell_type": "code",
   "execution_count": 24,
   "id": "57de2654",
   "metadata": {},
   "outputs": [],
   "source": [
    "data=responce.json()"
   ]
  },
  {
   "cell_type": "code",
   "execution_count": 25,
   "id": "e4d46f21",
   "metadata": {},
   "outputs": [
    {
     "data": {
      "text/plain": [
       "{'coord': {'lon': 77.2167, 'lat': 28.6667},\n",
       " 'weather': [{'id': 800,\n",
       "   'main': 'Clear',\n",
       "   'description': 'clear sky',\n",
       "   'icon': '01d'}],\n",
       " 'base': 'stations',\n",
       " 'main': {'temp': 34.94,\n",
       "  'feels_like': 34.01,\n",
       "  'temp_min': 34.94,\n",
       "  'temp_max': 34.94,\n",
       "  'pressure': 1006,\n",
       "  'humidity': 27,\n",
       "  'sea_level': 1006,\n",
       "  'grnd_level': 979},\n",
       " 'visibility': 10000,\n",
       " 'wind': {'speed': 1.58, 'deg': 224, 'gust': 5.9},\n",
       " 'clouds': {'all': 2},\n",
       " 'dt': 1749118496,\n",
       " 'sys': {'country': 'IN', 'sunrise': 1749081185, 'sunset': 1749131187},\n",
       " 'timezone': 19800,\n",
       " 'id': 1273294,\n",
       " 'name': 'Delhi',\n",
       " 'cod': 200}"
      ]
     },
     "execution_count": 25,
     "metadata": {},
     "output_type": "execute_result"
    }
   ],
   "source": [
    "data"
   ]
  },
  {
   "cell_type": "code",
   "execution_count": 42,
   "id": "e9bb3b12",
   "metadata": {},
   "outputs": [],
   "source": [
    "temp=data[\"main\"][\"temp\"]"
   ]
  },
  {
   "cell_type": "code",
   "execution_count": 43,
   "id": "1ef4085f",
   "metadata": {},
   "outputs": [],
   "source": [
    "hum=data[\"main\"][\"humidity\"]"
   ]
  },
  {
   "cell_type": "code",
   "execution_count": 44,
   "id": "09d62d07",
   "metadata": {},
   "outputs": [],
   "source": [
    "pre=data[\"main\"][\"pressure\"]"
   ]
  },
  {
   "cell_type": "code",
   "execution_count": 45,
   "id": "81f700df",
   "metadata": {},
   "outputs": [],
   "source": [
    "des=data['weather'][0][\"description\"]"
   ]
  },
  {
   "cell_type": "code",
   "execution_count": 46,
   "id": "6f415e21",
   "metadata": {},
   "outputs": [],
   "source": [
    "win=data[\"wind\"][\"speed\"]"
   ]
  },
  {
   "cell_type": "code",
   "execution_count": 55,
   "id": "12bfd722",
   "metadata": {},
   "outputs": [],
   "source": [
    "all=f\"City: {cityname}\\nTemperature: {temp}\\u00b0C\\nHumidity: {hum}%\\nPressure: {pre} hPa\\nWind: {win} m/s\\nDescription: {des}\""
   ]
  },
  {
   "cell_type": "code",
   "execution_count": 56,
   "id": "956eb185",
   "metadata": {},
   "outputs": [
    {
     "name": "stdout",
     "output_type": "stream",
     "text": [
      "City: Delhi\n",
      "Temperature: 34.94°C\n",
      "Humidity: 27%\n",
      "Pressure: 1006 hPa\n",
      "Wind: 1.58 m/s\n",
      "Description: clear sky\n"
     ]
    }
   ],
   "source": [
    "print(all)"
   ]
  },
  {
   "cell_type": "code",
   "execution_count": null,
   "id": "9119317e",
   "metadata": {},
   "outputs": [],
   "source": []
  }
 ],
 "metadata": {
  "kernelspec": {
   "display_name": "Python (mlfix)",
   "language": "python",
   "name": "mlfix"
  },
  "language_info": {
   "codemirror_mode": {
    "name": "ipython",
    "version": 3
   },
   "file_extension": ".py",
   "mimetype": "text/x-python",
   "name": "python",
   "nbconvert_exporter": "python",
   "pygments_lexer": "ipython3",
   "version": "3.10.16"
  }
 },
 "nbformat": 4,
 "nbformat_minor": 5
}
